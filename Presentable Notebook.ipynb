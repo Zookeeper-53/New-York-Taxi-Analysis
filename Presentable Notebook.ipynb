{
 "cells": [
  {
   "cell_type": "markdown",
   "id": "54068bbc-09e8-4a24-9f11-268940312930",
   "metadata": {},
   "source": [
    "#### Presentable Notebook"
   ]
  },
  {
   "cell_type": "code",
   "execution_count": null,
   "id": "ae1c3ec0-9dbe-4b5c-8c81-eae54f2729a8",
   "metadata": {},
   "outputs": [],
   "source": []
  }
 ],
 "metadata": {
  "kernelspec": {
   "display_name": "Python 3 (ipykernel)",
   "language": "python",
   "name": "python3"
  },
  "language_info": {
   "codemirror_mode": {
    "name": "ipython",
    "version": 3
   },
   "file_extension": ".py",
   "mimetype": "text/x-python",
   "name": "python",
   "nbconvert_exporter": "python",
   "pygments_lexer": "ipython3",
   "version": "3.12.4"
  }
 },
 "nbformat": 4,
 "nbformat_minor": 5
}
